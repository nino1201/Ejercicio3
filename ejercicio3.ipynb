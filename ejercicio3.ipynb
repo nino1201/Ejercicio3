{
 "cells": [
  {
   "cell_type": "code",
   "execution_count": 1,
   "metadata": {
    "collapsed": true
   },
   "outputs": [],
   "source": [
    "import numpy as np\n",
    "import matplotlib.pyplot as plt\n",
    "from sklearn import svm\n",
    "from sklearn import datasets\n",
    "from sklearn.datasets import make_classification\n",
    "from sklearn.datasets import make_blobs, make_moons, make_circles\n",
    "from sklearn.model_selection import train_test_split\n",
    "from sklearn.model_selection import cross_val_score\n",
    "from sklearn import preprocessing\n",
    "from sklearn import linear_model\n",
    "%matplotlib inline"
   ]
  },
  {
   "cell_type": "code",
   "execution_count": 16,
   "metadata": {
    "collapsed": false
   },
   "outputs": [
    {
     "data": {
      "text/plain": [
       "array([[ 1.09706398, -2.07333501,  1.26993369, ...,  2.29607613,\n",
       "         2.75062224,  1.93701461],\n",
       "       [ 1.82982061, -0.35363241,  1.68595471, ...,  1.0870843 ,\n",
       "        -0.24388967,  0.28118999],\n",
       "       [ 1.57988811,  0.45618695,  1.56650313, ...,  1.95500035,\n",
       "         1.152255  ,  0.20139121],\n",
       "       ..., \n",
       "       [ 0.70228425,  2.0455738 ,  0.67267578, ...,  0.41406869,\n",
       "        -1.10454895, -0.31840916],\n",
       "       [ 1.83834103,  2.33645719,  1.98252415, ...,  2.28998549,\n",
       "         1.91908301,  2.21963528],\n",
       "       [-1.80840125,  1.22179204, -1.81438851, ..., -1.74506282,\n",
       "        -0.04813821, -0.75120669]])"
      ]
     },
     "execution_count": 16,
     "metadata": {},
     "output_type": "execute_result"
    }
   ],
   "source": [
    "data = datasets.load_breast_cancer()\n",
    "Xs=data.data\n",
    "scaler = preprocessing.StandardScaler().fit(Xs)\n",
    "scaler.transform(Xs)\n"
   ]
  },
  {
   "cell_type": "code",
   "execution_count": 21,
   "metadata": {
    "collapsed": false
   },
   "outputs": [],
   "source": [
    "Xtt=Xs[:int(569*0.8),:]\n",
    "Xv=Xs[int(569*0.8):,:]"
   ]
  },
  {
   "cell_type": "code",
   "execution_count": 23,
   "metadata": {
    "collapsed": false
   },
   "outputs": [],
   "source": [
    "Ytt=data.target[:int(569*0.8)]\n",
    "Yv=data.target[int(569*0.8):]"
   ]
  },
  {
   "cell_type": "code",
   "execution_count": 19,
   "metadata": {
    "collapsed": false
   },
   "outputs": [],
   "source": [
    "\n",
    "X_train, X_test, Y_train, Y_test = train_test_split(Xtt, Ytt)"
   ]
  },
  {
   "cell_type": "code",
   "execution_count": 7,
   "metadata": {
    "collapsed": true
   },
   "outputs": [],
   "source": [
    "def FT(predict, test):\n",
    "    FalsoPositivo=0.\n",
    "    Acierto=0.\n",
    "    for i in range(len(predict)):\n",
    "        if(predict[i]==test[i]):\n",
    "            Acierto+=1\n",
    "        elif(test[i]==0 and predict[i]==1):\n",
    "            FalsoPositivo+=1\n",
    "    return Acierto/len(predict),FalsoPositivo/len(predict)"
   ]
  },
  {
   "cell_type": "code",
   "execution_count": 9,
   "metadata": {
    "collapsed": false
   },
   "outputs": [],
   "source": [
    "def gauss(C,gamma):\n",
    "    kernel_svc = svm.SVC(C=C, kernel='rbf', gamma=gamma)\n",
    "    kernel_svc.fit(X_train,Y_train)\n",
    "    Y_predict = kernel_svc.predict(X_test)\n",
    "    ac,Fp=FT(Y_predict,Y_test)\n",
    "    return ac,Fp"
   ]
  },
  {
   "cell_type": "code",
   "execution_count": 10,
   "metadata": {
    "collapsed": true
   },
   "outputs": [],
   "source": [
    "def poly(C,degree):\n",
    "    kernel_svc = svm.SVC(C=C, kernel='poly', degree=degree)\n",
    "    kernel_svc.fit(X_train,Y_train)\n",
    "    Y_predict = kernel_svc.predict(X_test)\n",
    "    ac,Fp=FT(Y_predict,Y_test)\n",
    "    return ac,Fp"
   ]
  },
  {
   "cell_type": "code",
   "execution_count": 11,
   "metadata": {
    "collapsed": true
   },
   "outputs": [],
   "source": [
    "def lineal(C):\n",
    "    linear_svc = svm.SVC(C=C, kernel='linear')\n",
    "    linear_svc.fit(X_train,Y_train)\n",
    "    Y_predict = linear_svc.predict(X_test)\n",
    "    ac,Fp=FT(Y_predict,Y_test)\n",
    "    return ac,Fp"
   ]
  },
  {
   "cell_type": "code",
   "execution_count": 22,
   "metadata": {
    "collapsed": false
   },
   "outputs": [],
   "source": [
    "C=np.linspace(4,10,20)\n",
    "gamma=np.linspace(0.00001,0.01,60)\n",
    "n=len(C)*len(gamma)\n",
    "gaussx=[]\n",
    "gaussy=[]\n",
    "maxAC=0\n",
    "minFP=1\n",
    "Cc=0\n",
    "G=0\n",
    "for i in range(len(C)):\n",
    "    for j in range(len(gamma)):\n",
    "        ac, fp = gauss(C[i],gamma[j])\n",
    "        if(ac>maxAC):\n",
    "            maxAC=ac\n",
    "            Cc=C[i]\n",
    "            G=gamma[i]\n",
    "        gaussx.append(ac)\n",
    "        gaussy.append(fp)"
   ]
  },
  {
   "cell_type": "code",
   "execution_count": 23,
   "metadata": {
    "collapsed": false
   },
   "outputs": [
    {
     "name": "stdout",
     "output_type": "stream",
     "text": [
      "4.0 1e-05\n"
     ]
    },
    {
     "data": {
      "image/png": "[encoded data removed]",
      "text/plain": [
       "<matplotlib.figure.Figure at 0x999d390>"
      ]
     },
     "metadata": {},
     "output_type": "display_data"
    }
   ],
   "source": [
    "plt.scatter(gaussx,gaussy)\n",
    "print Cc,G"
   ]
  },
  {
   "cell_type": "code",
   "execution_count": 23,
   "metadata": {
    "collapsed": false
   },
   "outputs": [],
   "source": [
    "C=np.linspace(0.01,1,10)\n",
    "\n",
    "linealx=[]\n",
    "linealy=[]\n",
    "Cl=0\n",
    "maxAC=0\n",
    "\n",
    "for i in range(len(C)):\n",
    "    ac, fp = lineal(C[i])\n",
    "    if(ac>maxAC):\n",
    "            maxAC=ac\n",
    "            Cl=C[i]\n",
    "    linealx.append(ac)\n",
    "    linealy.append(fp)"
   ]
  },
  {
   "cell_type": "code",
   "execution_count": 25,
   "metadata": {
    "collapsed": false
   },
   "outputs": [
    {
     "name": "stdout",
     "output_type": "stream",
     "text": [
      "0.01\n"
     ]
    },
    {
     "data": {
      "image/png": "[encoded data removed]",
      "text/plain": [
       "<matplotlib.figure.Figure at 0x9cc7278>"
      ]
     },
     "metadata": {},
     "output_type": "display_data"
    }
   ],
   "source": [
    "plt.scatter(linealx,linealy)\n",
    "print Cl"
   ]
  },
  {
   "cell_type": "code",
   "execution_count": 12,
   "metadata": {
    "collapsed": false
   },
   "outputs": [],
   "source": [
    "C=np.linspace(0.5,1,2)\n",
    "dg=np.linspace(1,2,2)\n",
    "polyx=[]\n",
    "polyy=[]\n",
    "Cp=0\n",
    "dgp=0\n",
    "maxAC=0\n",
    "\n",
    "for i in range(len(C)):\n",
    "    ac, fp = poly(C[i],dg[i])\n",
    "    if(ac>maxAC):\n",
    "            maxAC=ac\n",
    "            Cp=C[i]\n",
    "            dgp=dg[i]\n",
    "    polyx.append(ac)\n",
    "    polyy.append(fp)"
   ]
  },
  {
   "cell_type": "code",
   "execution_count": 14,
   "metadata": {
    "collapsed": false
   },
   "outputs": [
    {
     "name": "stdout",
     "output_type": "stream",
     "text": [
      "0.5 1.0\n"
     ]
    },
    {
     "data": {
      "image/png": "[encoded data removed]",
      "text/plain": [
       "<matplotlib.figure.Figure at 0x3fb8668>"
      ]
     },
     "metadata": {},
     "output_type": "display_data"
    }
   ],
   "source": [
    "plt.scatter(polyx,polyy)\n",
    "print Cp,dgp"
   ]
  },
  {
   "cell_type": "code",
   "execution_count": 24,
   "metadata": {
    "collapsed": false
   },
   "outputs": [
    {
     "name": "stdout",
     "output_type": "stream",
     "text": [
      "0.973684210526 0.0263157894737\n"
     ]
    }
   ],
   "source": [
    "kernel_svc = svm.SVC(C=Cp, kernel='poly', degree=dgp)\n",
    "kernel_svc.fit(Xv,Yv)\n",
    "Y_predict = kernel_svc.predict(Xv)\n",
    "ac,Fp=FT(Y_predict,Yv)\n",
    "print ac,Fp    "
   ]
  },
  {
   "cell_type": "code",
   "execution_count": null,
   "metadata": {
    "collapsed": true
   },
   "outputs": [],
   "source": [
    "# se escogió el kernel polinomial de grado 1 con C= 0.5 con lo que se puede concluir que es un hyperplano"
   ]
  }
 ],
 "metadata": {
  "kernelspec": {
   "display_name": "Python 2",
   "language": "python",
   "name": "python2"
  },
  "language_info": {
   "codemirror_mode": {
    "name": "ipython",
    "version": 2
   },
   "file_extension": ".py",
   "mimetype": "text/x-python",
   "name": "python",
   "nbconvert_exporter": "python",
   "pygments_lexer": "ipython2",
   "version": "2.7.13"
  }
 },
 "nbformat": 4,
 "nbformat_minor": 0
}
